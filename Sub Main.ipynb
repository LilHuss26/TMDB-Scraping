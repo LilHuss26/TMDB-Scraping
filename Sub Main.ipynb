{
 "cells": [
  {
   "cell_type": "code",
   "execution_count": null,
   "metadata": {},
   "outputs": [],
   "source": [
    "def get_work_page(movie_query_name):\n",
    "    encoded_query_name = urllib.parse.quote(movie_query_name)\n",
    "    search_page = f\"https://www.themoviedb.org/search?query={encoded_query_name}\"\n",
    "    search_soup = souper(search_page)\n",
    "    title = search_soup.find(\"div\", {'class' : 'title'} )\n",
    "    if (title.h2.text.lower() == movie_query_name.lower()):\n",
    "        link_href = title.a['href']\n",
    "        the_page = f\"https://www.themoviedb.org{link_href}\"\n",
    "        print(the_page)\n",
    "    else :\n",
    "        print(\"No Page Found\")"
   ]
  }
 ],
 "metadata": {
  "language_info": {
   "name": "python"
  }
 },
 "nbformat": 4,
 "nbformat_minor": 2
}
