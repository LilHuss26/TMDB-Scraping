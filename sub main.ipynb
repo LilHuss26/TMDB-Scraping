{
 "cells": [
  {
   "cell_type": "code",
   "execution_count": null,
   "metadata": {},
   "outputs": [],
   "source": [
    "def get_work_page(movie_query_name):\n",
    "    encoded_query_name = urllib.parse.quote(movie_query_name)\n",
    "    search_page = f\"https://www.themoviedb.org/search?query={encoded_query_name}\"\n",
    "    search_soup = souper(search_page)\n",
    "    title = search_soup.find(\"div\", {'class' : 'title'} )\n",
    "    if (title.h2.text.lower() == movie_query_name.lower()):\n",
    "        link_href = title.a['href']\n",
    "        the_page = f\"https://www.themoviedb.org{link_href}\"\n",
    "        print(the_page)\n",
    "    else :\n",
    "        print(\"No Page Found\")"
   ]
  },
  {
   "cell_type": "code",
   "execution_count": null,
   "metadata": {},
   "outputs": [
    {
     "name": "stdout",
     "output_type": "stream",
     "text": [
      "https://www.themoviedb.org/movie/293660-deadpool\n"
     ]
    }
   ],
   "source": [
    "query_name = input(\"Enter the Movie/Tv show title: \")\n",
    "get_work_page(query_name)"
   ]
  },
  {
   "cell_type": "code",
   "execution_count": null,
   "metadata": {},
   "outputs": [],
   "source": [
    "def cast_datar (cast_link):\n",
    "    cast_src = souper(cast_link)\n",
    "    cast_raw = cast_src.find(\"ol\",{'class':'people'})\n",
    "    cast_names_soup = cast_raw.find_all(\"li\")\n",
    "    cast_data_temp = []\n",
    "    for inf in cast_names_soup:\n",
    "        actor =  inf.find(\"div\",{'class':'info'}).p.a.text\n",
    "        character = inf.find(\"p\",{'class':'character'}).text.strip()\n",
    "        cast_data_temp.append({'actor': actor, 'character': character})\n",
    "    movie_name = \"Deadpool\" \n",
    "    for cast_member in cast_data_temp:\n",
    "        cast_member['movie'] = movie_name\n",
    "    cast_data = pd.DataFrame(cast_data_temp)\n",
    "    return cast_data\n"
   ]
  },
  {
   "cell_type": "code",
   "execution_count": null,
   "metadata": {},
   "outputs": [],
   "source": [
    "def movie_datar (movie_page):\n",
    "    movie_src = souper(movie_page)\n",
    "    movie_header = movie_src.find(\"section\",{'class', 'header poster'})\n",
    "    movie_name = movie_header.a.text\n",
    "    release_year = movie_header.find(\"span\",{'class':'release_date'}).text.strip('()')\n",
    "    movie_runtime = movie_header.find(\"span\",{'class':'runtime'}).text.strip()\n",
    "    movie_age = movie_header.find(\"span\",{'class':'certification'}).text.strip()\n",
    "    director = movie_header.find('p',{'class':'character'}).parent.p.a.text\n",
    "    movie_score = movie_header.find(\"div\",{'class':'user_score_chart'}).get('data-percent')\n",
    "    genres = movie_header.find(\"span\",{'class':'genres'}).find_all('a')\n",
    "    all_genres = [genre.text for genre in genres]\n",
    "    movie_genres = ', '.join(all_genres)\n",
    "    facts_columns = movie_src.find(\"section\",{'class':'facts left_column'})\n",
    "    facts_raw = facts_columns.find_all('p')\n",
    "    facts_all = [fact.bdi.decompose() for fact in facts_raw]\n",
    "    status = facts_raw[0].text.strip()\n",
    "    language = facts_raw[1].text.strip()\n",
    "    Budget = facts_raw[2].text.strip()\n",
    "    revenue = facts_raw[3].text.strip()\n",
    "    data_temp = {\n",
    "        'Name' : movie_name,\n",
    "        'Release Year': release_year,\n",
    "        'Runtime': movie_runtime,\n",
    "        'Age Rating': movie_age,\n",
    "        'Director': director,\n",
    "        'Score': movie_score,\n",
    "        'Genres': movie_genres,\n",
    "        'Status': status,\n",
    "        'Language': language,\n",
    "        'Budget': Budget,\n",
    "        'Revenue': revenue\n",
    "    }\n",
    "    movie_data = pd.DataFrame(data_temp, index=[0])\n",
    "    return movie_data"
   ]
  }
 ],
 "metadata": {
  "language_info": {
   "name": "python"
  }
 },
 "nbformat": 4,
 "nbformat_minor": 2
}
